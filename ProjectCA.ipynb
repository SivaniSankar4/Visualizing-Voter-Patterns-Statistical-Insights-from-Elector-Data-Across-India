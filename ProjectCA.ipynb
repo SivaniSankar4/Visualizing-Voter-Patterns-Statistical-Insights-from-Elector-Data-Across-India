{
 "cells": [
  {
   "cell_type": "code",
   "execution_count": null,
   "id": "d6d8d7e9-64e3-423f-9cb5-ac3bf9ac3e3c",
   "metadata": {},
   "outputs": [],
   "source": [
    "import pandas as pd\n",
    "import numpy as np\n",
    "import seaborn as sns\n",
    "import matplotlib.pyplot as plt"
   ]
  },
  {
   "cell_type": "code",
   "execution_count": null,
   "id": "812d6ac3-0d17-4d98-94ef-8f90d5e1e701",
   "metadata": {},
   "outputs": [],
   "source": [
    "data=pd.read_csv(\"C:\\\\Users\\\\ACER\\\\Downloads\\\\15_Assembly_Segment_Wise_Information_Electors.csv\")\n",
    "data.head()"
   ]
  },
  {
   "cell_type": "code",
   "execution_count": null,
   "id": "2d7c037a-0fde-4ae4-af5e-6b8f96d9fcd2",
   "metadata": {},
   "outputs": [
    {
     "name": "stdout",
     "output_type": "stream",
     "text": [
      "State Name                                     object\n",
      "Ac Name                                        object\n",
      "Pc Name                                        object\n",
      "Electors - General - Other Than NRI - M         int64\n",
      "Electors - General - Other Than NRI - F         int64\n",
      "Electors - General - Other Than NRI - TG        int64\n",
      "Electors - General - Other Than NRI - Total     int64\n",
      "Electors - General - NRI - M                    int64\n",
      "Electors - General - NRI - F                    int64\n",
      "Electors - General - NRI - TG                   int64\n",
      "Electors - General - NRI - Total                int64\n",
      "Electors - Service - M                          int64\n",
      "Electors - Service - F                          int64\n",
      "Electors - Service - Total                      int64\n",
      "Electors - Total Electors                       int64\n",
      "Votes Polled On Evm (Valid Votes + NOTA)        int64\n",
      "dtype: object\n"
     ]
    }
   ],
   "source": [
    "print(data.dtypes)"
   ]
  },
  {
   "cell_type": "code",
   "execution_count": null,
   "id": "8e8b7eb0-6133-4ed0-8e37-f53f82fafd86",
   "metadata": {},
   "outputs": [
    {
     "data": {
      "text/plain": [
       "State Name                                     0\n",
       "Ac Name                                        0\n",
       "Pc Name                                        0\n",
       "Electors - General - Other Than NRI - M        0\n",
       "Electors - General - Other Than NRI - F        0\n",
       "Electors - General - Other Than NRI - TG       0\n",
       "Electors - General - Other Than NRI - Total    0\n",
       "Electors - General - NRI - M                   0\n",
       "Electors - General - NRI - F                   0\n",
       "Electors - General - NRI - TG                  0\n",
       "Electors - General - NRI - Total               0\n",
       "Electors - Service - M                         0\n",
       "Electors - Service - F                         0\n",
       "Electors - Service - Total                     0\n",
       "Electors - Total Electors                      0\n",
       "Votes Polled On Evm (Valid Votes + NOTA)       0\n",
       "dtype: int64"
      ]
     },
     "execution_count": 22,
     "metadata": {},
     "output_type": "execute_result"
    }
   ],
   "source": [
    "data.info()"
   ]
  },
  {
   "cell_type": "code",
   "execution_count": null,
   "id": "f5f28971-2d74-4ef0-a0ef-1d66643400aa",
   "metadata": {},
   "outputs": [
    {
     "data": {
      "text/html": [
       "<div>\n",
       "<style scoped>\n",
       "    .dataframe tbody tr th:only-of-type {\n",
       "        vertical-align: middle;\n",
       "    }\n",
       "\n",
       "    .dataframe tbody tr th {\n",
       "        vertical-align: top;\n",
       "    }\n",
       "\n",
       "    .dataframe thead th {\n",
       "        text-align: right;\n",
       "    }\n",
       "</style>\n",
       "<table border=\"1\" class=\"dataframe\">\n",
       "  <thead>\n",
       "    <tr style=\"text-align: right;\">\n",
       "      <th></th>\n",
       "      <th>Electors - Total Electors</th>\n",
       "      <th>Votes Polled On Evm (Valid Votes + NOTA)</th>\n",
       "    </tr>\n",
       "  </thead>\n",
       "  <tbody>\n",
       "    <tr>\n",
       "      <th>Electors - Total Electors</th>\n",
       "      <td>1.000000</td>\n",
       "      <td>0.999996</td>\n",
       "    </tr>\n",
       "    <tr>\n",
       "      <th>Votes Polled On Evm (Valid Votes + NOTA)</th>\n",
       "      <td>0.999996</td>\n",
       "      <td>1.000000</td>\n",
       "    </tr>\n",
       "  </tbody>\n",
       "</table>\n",
       "</div>"
      ],
      "text/plain": [
       "                                          Electors - Total Electors  \\\n",
       "Electors - Total Electors                                  1.000000   \n",
       "Votes Polled On Evm (Valid Votes + NOTA)                   0.999996   \n",
       "\n",
       "                                          Votes Polled On Evm (Valid Votes + NOTA)  \n",
       "Electors - Total Electors                                                 0.999996  \n",
       "Votes Polled On Evm (Valid Votes + NOTA)                                  1.000000  "
      ]
     },
     "execution_count": 33,
     "metadata": {},
     "output_type": "execute_result"
    }
   ],
   "source": [
    "print(\"Number of missing values in each column:\\n\",data.isnull().sum())"
   ]
  },
  {
   "cell_type": "code",
   "execution_count": null,
   "id": "c2ece084-a383-4c20-ad09-d5886f65711a",
   "metadata": {},
   "outputs": [
    {
     "data": {
      "text/plain": [
       "Text(0.5, 1.0, 'Correlation between Total Electors and Votes Polled On EVM')"
      ]
     },
     "execution_count": 50,
     "metadata": {},
     "output_type": "execute_result"
    },
    {
     "data": {
      "image/png": "[encoded data removed]",
      "text/plain": [
       "<Figure size 640x480 with 2 Axes>"
      ]
     },
     "metadata": {},
     "output_type": "display_data"
    }
   ],
   "source": [
    "print(\"Number of duplicated rows:\\n\",data.duplicated().sum())"
   ]
  },
  {
   "cell_type": "code",
   "execution_count": null,
   "id": "ec1159cc-02e0-47f5-bfc2-b08a55351e64",
   "metadata": {},
   "outputs": [
    {
     "data": {
      "text/plain": [
       "<Axes: xlabel='Votes Polled On Evm (Valid Votes + NOTA)'>"
      ]
     },
     "execution_count": 57,
     "metadata": {},
     "output_type": "execute_result"
    },
    {
     "data": {
      "image/png": "[encoded data removed]",
      "text/plain": [
       "<Figure size 640x480 with 1 Axes>"
      ]
     },
     "metadata": {},
     "output_type": "display_data"
    }
   ],
   "source": [
    "correlation=data[['Electors - Total Electors','Votes Polled On Evm (Valid Votes + NOTA)']].corr()\n",
    "correlation"
   ]
  },
  {
   "cell_type": "code",
   "execution_count": null,
   "id": "68844406",
   "metadata": {},
   "outputs": [],
   "source": [
    "\n",
    "sns.heatmap(correlation,annot=True,cmap='Blues')\n",
    "plt.title(\"Correlation between Total Electors and Votes Polled On EVM\",pad=20,color='darkblue')"
   ]
  },
  {
   "cell_type": "code",
   "execution_count": null,
   "id": "f5edb409",
   "metadata": {},
   "outputs": [],
   "source": [
    "sump = data['Votes Polled On Evm (Valid Votes + NOTA)'].sum()\n",
    "sumt = data['Electors - Total Electors'].sum()\n",
    "d = [sump, sumt]\n",
    "labels = [\"POLLED\", \"TOTAL\"]\n",
    "plt.pie(d, labels=labels, autopct='%1.1f%%', startangle=90)"
   ]
  },
  {
   "cell_type": "code",
   "execution_count": null,
   "id": "e67309b5",
   "metadata": {},
   "outputs": [],
   "source": []
  },
  {
   "cell_type": "code",
   "execution_count": null,
   "id": "0cf9d7a2-682e-498b-bd39-eddba47dd389",
   "metadata": {},
   "outputs": [],
   "source": [
    "#Use summary statistics (mean, median, standard deviation, etc.) to analyze gender-wise distribution of electors and detect any significant imbalances.\n",
    "'''------------------------------------------------objective 2-----------------------------------------------------'''\n",
    "gender = data[['Electors - General - Other Than NRI - M','Electors - General - Other Than NRI - F','Electors - General - Other Than NRI - TG']]\n",
    "mmean = gender['Electors - General - Other Than NRI - M'].mean()\n",
    "mmed = gender['Electors - General - Other Than NRI - M'].median()\n",
    "mstd = gender['Electors - General - Other Than NRI - M'].std()\n",
    "fmean = gender['Electors - General - Other Than NRI - F'].mean()\n",
    "fmed = gender['Electors - General - Other Than NRI - F'].median()\n",
    "fstd = gender['Electors - General - Other Than NRI - F'].std()\n",
    "tmean = gender['Electors - General - Other Than NRI - TG'].mean()\n",
    "tmed = gender['Electors - General - Other Than NRI - TG'].median()\n",
    "tstd = gender['Electors - General - Other Than NRI - TG'].std()\n",
    "# Print results\n",
    "print(\"Male Electors Other Than NRI:\")\n",
    "print(\"Mean:\", mmean)\n",
    "print(\"Median:\", mmed)\n",
    "print(\"Standard Deviation:\", mstd)\n",
    "\n",
    "print(\"\\nFemale Electors Other than NRI:\")\n",
    "print(\"Mean:\", fmean)\n",
    "print(\"Median:\", fmed)\n",
    "print(\"Standard Deviation:\", fstd)\n",
    "print(\"\\nTG Electors:\")\n",
    "print(\"Mean:\", tmean)\n",
    "print(\"Median:\", tmed)\n",
    "print(\"Standard Deviation:\", tstd)"
   ]
  },
  {
   "cell_type": "code",
   "execution_count": null,
   "id": "6960302f-ff81-4cd5-a1f0-c5fdd184fd33",
   "metadata": {},
   "outputs": [],
   "source": [
    "gendern = data[['Electors - General - NRI - M','Electors - General - NRI - F','Electors - General - NRI - TG']]\n",
    "mnrimean = gendern['Electors - General - NRI - M'].mean()\n",
    "mnrimed = gendern['Electors - General - NRI - M'].median()\n",
    "mnristd = gendern['Electors - General - NRI - M'].std()\n",
    "fnrimean = gendern['Electors - General - NRI - F'].mean()\n",
    "fnrimed = gendern['Electors - General - NRI - F'].median()\n",
    "fnristd = gendern['Electors - General - NRI - F'].std()\n",
    "tnrimean = gendern['Electors - General - NRI - TG'].mean()\n",
    "tnrimed = gendern['Electors - General - NRI - TG'].median()\n",
    "tnristd = gendern['Electors - General - NRI - TG'].std()\n",
    "# Print results\n",
    "print(\"Male NRI Electors:\")\n",
    "print(\"Mean:\", mnrimean)\n",
    "print(\"Median:\", mnrimed)\n",
    "print(\"Standard Deviation:\", mnristd)\n",
    "\n",
    "print(\"\\nFemale NRI Electors:\")\n",
    "print(\"Mean:\", fnrimean)\n",
    "print(\"Median:\", fnrimed)\n",
    "print(\"Standard Deviation:\", fnristd)\n",
    "print(\"\\nTG Electors:\")\n",
    "print(\"Mean:\", tnrimean)\n",
    "print(\"Median:\", tnrimed)\n",
    "print(\"Standard Deviation:\", tnristd)"
   ]
  },
  {
   "cell_type": "code",
   "execution_count": null,
   "id": "ce19d504-f3cc-4cf3-bee0-bd959ae85eac",
   "metadata": {},
   "outputs": [],
   "source": [
    "'''---Identify and visualize outliers in the 'Votes Polled On EVM' column using statistical methods and boxplots.---'''\n",
    "votes = data['Votes Polled On Evm (Valid Votes + NOTA)'].dropna()\n",
    "# Calculate IQR (Interquartile Range)\n",
    "Q1 = votes.quantile(0.25)\n",
    "Q3 = votes.quantile(0.75)\n",
    "IQR = Q3 - Q1\n",
    "# Find outliers\n",
    "lower_limit = Q1 - 1.2 * IQR\n",
    "upper_limit = Q3 + 1.2 * IQR\n",
    "outliers = votes[(votes < lower_limit) | (votes > upper_limit)]\n",
    "# Print number of outliers\n",
    "print(\"Number of outliers:\", len(outliers))\n",
    "# Visualize with boxplot\n",
    "plt.boxplot(votes)\n",
    "plt.title(\"Boxplot: Votes Polled on EVM\")\n",
    "plt.ylabel(\"Votes\")\n",
    "plt.show()\n"
   ]
  },
  {
   "cell_type": "code",
   "execution_count": null,
   "id": "37d91626",
   "metadata": {},
   "outputs": [],
   "source": [
    "#Filter out the outliers\n",
    "data_no_outliers = data[(votes >= lower_limit) & (votes <= upper_limit)]\n",
    "print(\"Original dataset size:\", len(data))\n",
    "print(\"After removing outliers:\", len(data_no_outliers))\n",
    "plt.boxplot(data_no_outliers['Votes Polled On Evm (Valid Votes + NOTA)'])\n",
    "plt.title(\"Boxplot (Without Outliers): Votes Polled on EVM\")\n",
    "plt.ylabel(\"Votes\")\n",
    "plt.grid(True)\n",
    "plt.show()"
   ]
  },
  {
   "cell_type": "code",
   "execution_count": null,
   "id": "e854c563",
   "metadata": {},
   "outputs": [],
   "source": [
    "'''--Visualize the distribution of electors across different categories: General, NRI, and Service.---'''\n",
    "general_total = data['Electors - General - Other Than NRI - Total'].sum()\n",
    "nri_total = data['Electors - General - NRI - Total'].sum()\n",
    "service_total = data['Electors - Service - Total'].sum()\n",
    "categories = ['General', 'NRI', 'Service']\n",
    "values = [general_total, nri_total, service_total]\n",
    "# Bar plot\n",
    "plt.bar(categories, values)\n",
    "plt.title('Elector Distribution by Category')\n",
    "plt.xlabel('Category')\n",
    "plt.ylabel('Number of Electors')\n",
    "plt.yscale('log')\n",
    "plt.show()"
   ]
  },
  {
   "cell_type": "code",
   "execution_count": null,
   "id": "f177535e",
   "metadata": {},
   "outputs": [],
   "source": [
    "'''--Create comparative visualizations of gender-wise elector distribution across all categories (General, NRI, and Service).--'''\n",
    "# Total electors by gender and category\n",
    "\n",
    "categories = ['General', 'NRI', 'Service']\n",
    "male = [\n",
    "    data['Electors - General - Other Than NRI - M'].sum(),\n",
    "    data['Electors - General - NRI - M'].sum(),\n",
    "    data['Electors - Service - M'].sum()\n",
    "]\n",
    "female = [\n",
    "    data['Electors - General - Other Than NRI - F'].sum(),\n",
    "    data['Electors - General - NRI - F'].sum(),\n",
    "    data['Electors - Service - F'].sum()\n",
    "]\n",
    "# TG only available for General and NRI\n",
    "tg = [\n",
    "    data['Electors - General - Other Than NRI - TG'].sum(),\n",
    "    data['Electors - General - NRI - TG'].sum(),\n",
    "    0  # No TG in Service category\n",
    "]\n",
    "# Plotting\n",
    "x = np.arange(len(categories))  # the label locations\n",
    "width = 0.25  # the width of the bars\n",
    "plt.figure(figsize=(10, 6))\n",
    "plt.bar(x - width, male, width, label='Male', color='skyblue')\n",
    "plt.bar(x, female, width, label='Female', color='lightcoral')\n",
    "plt.bar(x + width, tg, width, label='Third Gender', color='lightgreen')\n",
    "plt.xlabel('Category')\n",
    "plt.ylabel('Number of Electors')\n",
    "plt.title('Gender-wise Elector Comparison by Category')\n",
    "plt.xticks(x, categories)\n",
    "plt.yscale('log')\n",
    "plt.legend()\n",
    "plt.tight_layout()\n",
    "plt.show()"
   ]
  },
  {
   "cell_type": "code",
   "execution_count": null,
   "id": "6c558db0",
   "metadata": {},
   "outputs": [],
   "source": []
  }
 ],
 "metadata": {
  "kernelspec": {
   "display_name": "Python 3",
   "language": "python",
   "name": "python3"
  },
  "language_info": {
   "codemirror_mode": {
    "name": "ipython",
    "version": 3
   },
   "file_extension": ".py",
   "mimetype": "text/x-python",
   "name": "python",
   "nbconvert_exporter": "python",
   "pygments_lexer": "ipython3",
   "version": "3.13.1"
  }
 },
 "nbformat": 4,
 "nbformat_minor": 5
}
